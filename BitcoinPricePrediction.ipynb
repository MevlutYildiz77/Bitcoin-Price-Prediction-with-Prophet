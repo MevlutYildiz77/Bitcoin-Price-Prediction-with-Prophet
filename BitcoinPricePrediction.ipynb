{
 "cells": [
  {
   "attachments": {},
   "cell_type": "markdown",
   "metadata": {},
   "source": [
    "https://thecleverprogrammer.com/2021/01/05/bitcoin-price-prediction-with-python/"
   ]
  },
  {
   "attachments": {},
   "cell_type": "markdown",
   "metadata": {},
   "source": [
    "https://thecleverprogrammer.com/2020/12/14/facebook-prophet-model-with-python/"
   ]
  },
  {
   "cell_type": "code",
   "execution_count": 2,
   "metadata": {},
   "outputs": [],
   "source": [
    "import pandas as pd\n",
    "#from fbprophet import prophet\n",
    "import prophet\n"
   ]
  },
  {
   "cell_type": "code",
   "execution_count": 4,
   "metadata": {},
   "outputs": [
    {
     "data": {
      "text/html": [
       "<div>\n",
       "<style scoped>\n",
       "    .dataframe tbody tr th:only-of-type {\n",
       "        vertical-align: middle;\n",
       "    }\n",
       "\n",
       "    .dataframe tbody tr th {\n",
       "        vertical-align: top;\n",
       "    }\n",
       "\n",
       "    .dataframe thead th {\n",
       "        text-align: right;\n",
       "    }\n",
       "</style>\n",
       "<table border=\"1\" class=\"dataframe\">\n",
       "  <thead>\n",
       "    <tr style=\"text-align: right;\">\n",
       "      <th></th>\n",
       "      <th>Date</th>\n",
       "      <th>Open</th>\n",
       "      <th>High</th>\n",
       "      <th>Low</th>\n",
       "      <th>Close</th>\n",
       "      <th>Adj Close</th>\n",
       "      <th>Volume</th>\n",
       "    </tr>\n",
       "  </thead>\n",
       "  <tbody>\n",
       "    <tr>\n",
       "      <th>0</th>\n",
       "      <td>2022-02-04</td>\n",
       "      <td>37149.265625</td>\n",
       "      <td>41527.785156</td>\n",
       "      <td>37093.628906</td>\n",
       "      <td>41500.875000</td>\n",
       "      <td>41500.875000</td>\n",
       "      <td>29412210792</td>\n",
       "    </tr>\n",
       "    <tr>\n",
       "      <th>1</th>\n",
       "      <td>2022-02-05</td>\n",
       "      <td>41501.480469</td>\n",
       "      <td>41847.164063</td>\n",
       "      <td>41038.097656</td>\n",
       "      <td>41441.164063</td>\n",
       "      <td>41441.164063</td>\n",
       "      <td>19652846215</td>\n",
       "    </tr>\n",
       "    <tr>\n",
       "      <th>2</th>\n",
       "      <td>2022-02-06</td>\n",
       "      <td>41441.121094</td>\n",
       "      <td>42500.785156</td>\n",
       "      <td>41244.906250</td>\n",
       "      <td>42412.433594</td>\n",
       "      <td>42412.433594</td>\n",
       "      <td>16142097334</td>\n",
       "    </tr>\n",
       "    <tr>\n",
       "      <th>3</th>\n",
       "      <td>2022-02-07</td>\n",
       "      <td>42406.781250</td>\n",
       "      <td>44401.863281</td>\n",
       "      <td>41748.156250</td>\n",
       "      <td>43840.285156</td>\n",
       "      <td>43840.285156</td>\n",
       "      <td>28641855926</td>\n",
       "    </tr>\n",
       "    <tr>\n",
       "      <th>4</th>\n",
       "      <td>2022-02-08</td>\n",
       "      <td>43854.652344</td>\n",
       "      <td>45293.867188</td>\n",
       "      <td>42807.835938</td>\n",
       "      <td>44118.445313</td>\n",
       "      <td>44118.445313</td>\n",
       "      <td>33079398868</td>\n",
       "    </tr>\n",
       "  </tbody>\n",
       "</table>\n",
       "</div>"
      ],
      "text/plain": [
       "         Date          Open          High           Low         Close  \\\n",
       "0  2022-02-04  37149.265625  41527.785156  37093.628906  41500.875000   \n",
       "1  2022-02-05  41501.480469  41847.164063  41038.097656  41441.164063   \n",
       "2  2022-02-06  41441.121094  42500.785156  41244.906250  42412.433594   \n",
       "3  2022-02-07  42406.781250  44401.863281  41748.156250  43840.285156   \n",
       "4  2022-02-08  43854.652344  45293.867188  42807.835938  44118.445313   \n",
       "\n",
       "      Adj Close       Volume  \n",
       "0  41500.875000  29412210792  \n",
       "1  41441.164063  19652846215  \n",
       "2  42412.433594  16142097334  \n",
       "3  43840.285156  28641855926  \n",
       "4  44118.445313  33079398868  "
      ]
     },
     "execution_count": 4,
     "metadata": {},
     "output_type": "execute_result"
    }
   ],
   "source": [
    "df = pd.read_csv(\"BTC-USD.csv\")\n",
    "df.head()"
   ]
  },
  {
   "cell_type": "code",
   "execution_count": 5,
   "metadata": {},
   "outputs": [
    {
     "data": {
      "text/html": [
       "<div>\n",
       "<style scoped>\n",
       "    .dataframe tbody tr th:only-of-type {\n",
       "        vertical-align: middle;\n",
       "    }\n",
       "\n",
       "    .dataframe tbody tr th {\n",
       "        vertical-align: top;\n",
       "    }\n",
       "\n",
       "    .dataframe thead th {\n",
       "        text-align: right;\n",
       "    }\n",
       "</style>\n",
       "<table border=\"1\" class=\"dataframe\">\n",
       "  <thead>\n",
       "    <tr style=\"text-align: right;\">\n",
       "      <th></th>\n",
       "      <th>Date</th>\n",
       "      <th>Close</th>\n",
       "    </tr>\n",
       "  </thead>\n",
       "  <tbody>\n",
       "    <tr>\n",
       "      <th>0</th>\n",
       "      <td>2022-02-04</td>\n",
       "      <td>41500.875000</td>\n",
       "    </tr>\n",
       "    <tr>\n",
       "      <th>1</th>\n",
       "      <td>2022-02-05</td>\n",
       "      <td>41441.164063</td>\n",
       "    </tr>\n",
       "    <tr>\n",
       "      <th>2</th>\n",
       "      <td>2022-02-06</td>\n",
       "      <td>42412.433594</td>\n",
       "    </tr>\n",
       "    <tr>\n",
       "      <th>3</th>\n",
       "      <td>2022-02-07</td>\n",
       "      <td>43840.285156</td>\n",
       "    </tr>\n",
       "    <tr>\n",
       "      <th>4</th>\n",
       "      <td>2022-02-08</td>\n",
       "      <td>44118.445313</td>\n",
       "    </tr>\n",
       "    <tr>\n",
       "      <th>...</th>\n",
       "      <td>...</td>\n",
       "      <td>...</td>\n",
       "    </tr>\n",
       "    <tr>\n",
       "      <th>361</th>\n",
       "      <td>2023-01-31</td>\n",
       "      <td>23139.283203</td>\n",
       "    </tr>\n",
       "    <tr>\n",
       "      <th>362</th>\n",
       "      <td>2023-02-01</td>\n",
       "      <td>23723.769531</td>\n",
       "    </tr>\n",
       "    <tr>\n",
       "      <th>363</th>\n",
       "      <td>2023-02-02</td>\n",
       "      <td>23471.871094</td>\n",
       "    </tr>\n",
       "    <tr>\n",
       "      <th>364</th>\n",
       "      <td>2023-02-03</td>\n",
       "      <td>23449.322266</td>\n",
       "    </tr>\n",
       "    <tr>\n",
       "      <th>365</th>\n",
       "      <td>2023-02-04</td>\n",
       "      <td>23448.958984</td>\n",
       "    </tr>\n",
       "  </tbody>\n",
       "</table>\n",
       "<p>366 rows × 2 columns</p>\n",
       "</div>"
      ],
      "text/plain": [
       "           Date         Close\n",
       "0    2022-02-04  41500.875000\n",
       "1    2022-02-05  41441.164063\n",
       "2    2022-02-06  42412.433594\n",
       "3    2022-02-07  43840.285156\n",
       "4    2022-02-08  44118.445313\n",
       "..          ...           ...\n",
       "361  2023-01-31  23139.283203\n",
       "362  2023-02-01  23723.769531\n",
       "363  2023-02-02  23471.871094\n",
       "364  2023-02-03  23449.322266\n",
       "365  2023-02-04  23448.958984\n",
       "\n",
       "[366 rows x 2 columns]"
      ]
     },
     "execution_count": 5,
     "metadata": {},
     "output_type": "execute_result"
    }
   ],
   "source": [
    "df = df[[\"Date\", \"Close\"]]\n",
    "df"
   ]
  },
  {
   "cell_type": "code",
   "execution_count": 6,
   "metadata": {},
   "outputs": [
    {
     "name": "stdout",
     "output_type": "stream",
     "text": [
      "             ds             y\n",
      "0    2022-02-04  41500.875000\n",
      "1    2022-02-05  41441.164063\n",
      "2    2022-02-06  42412.433594\n",
      "3    2022-02-07  43840.285156\n",
      "4    2022-02-08  44118.445313\n",
      "..          ...           ...\n",
      "361  2023-01-31  23139.283203\n",
      "362  2023-02-01  23723.769531\n",
      "363  2023-02-02  23471.871094\n",
      "364  2023-02-03  23449.322266\n",
      "365  2023-02-04  23448.958984\n",
      "\n",
      "[366 rows x 2 columns]\n"
     ]
    }
   ],
   "source": [
    "df.columns = [\"ds\", \"y\"]\n",
    "print(df)"
   ]
  },
  {
   "cell_type": "code",
   "execution_count": 9,
   "metadata": {},
   "outputs": [
    {
     "ename": "NameError",
     "evalue": "name 'Prophet' is not defined",
     "output_type": "error",
     "traceback": [
      "\u001b[1;31m---------------------------------------------------------------------------\u001b[0m",
      "\u001b[1;31mNameError\u001b[0m                                 Traceback (most recent call last)",
      "\u001b[1;32mc:\\Users\\TOSHIBA\\Desktop\\Projelerim\\Bitcoin Price Prediction\\BitcoinPricePrediction.ipynb Cell 7\u001b[0m in \u001b[0;36m<cell line: 1>\u001b[1;34m()\u001b[0m\n\u001b[1;32m----> <a href='vscode-notebook-cell:/c%3A/Users/TOSHIBA/Desktop/Projelerim/Bitcoin%20Price%20Prediction/BitcoinPricePrediction.ipynb#W2sZmlsZQ%3D%3D?line=0'>1</a>\u001b[0m prophet \u001b[39m=\u001b[39m Prophet()\n\u001b[0;32m      <a href='vscode-notebook-cell:/c%3A/Users/TOSHIBA/Desktop/Projelerim/Bitcoin%20Price%20Prediction/BitcoinPricePrediction.ipynb#W2sZmlsZQ%3D%3D?line=1'>2</a>\u001b[0m prophet\u001b[39m.\u001b[39mfit(df)\n",
      "\u001b[1;31mNameError\u001b[0m: name 'Prophet' is not defined"
     ]
    }
   ],
   "source": [
    "prophet = Prophet()\n",
    "prophet.fit(df)"
   ]
  },
  {
   "attachments": {},
   "cell_type": "markdown",
   "metadata": {},
   "source": [
    " make predictions for the next 365 days"
   ]
  },
  {
   "cell_type": "code",
   "execution_count": null,
   "metadata": {},
   "outputs": [],
   "source": [
    "future = prophet.make_future_dataframe(period = 365)\n",
    "print(future)"
   ]
  },
  {
   "cell_type": "code",
   "execution_count": null,
   "metadata": {},
   "outputs": [],
   "source": [
    "forecast = prophet.predict(future)\n",
    "forecast[[\"ds\", \"yhat\", \"yhat_lower\", \"yhat_upper\"]].tail(200)"
   ]
  },
  {
   "cell_type": "code",
   "execution_count": null,
   "metadata": {},
   "outputs": [],
   "source": [
    "from fbprophet.plot import plot\n",
    "prophet.plot(forecast, figsize = (20,10))"
   ]
  }
 ],
 "metadata": {
  "kernelspec": {
   "display_name": "pythonProject",
   "language": "python",
   "name": "python3"
  },
  "language_info": {
   "codemirror_mode": {
    "name": "ipython",
    "version": 3
   },
   "file_extension": ".py",
   "mimetype": "text/x-python",
   "name": "python",
   "nbconvert_exporter": "python",
   "pygments_lexer": "ipython3",
   "version": "3.9.12"
  },
  "orig_nbformat": 4,
  "vscode": {
   "interpreter": {
    "hash": "45a60c048f4ccd6c48c495f838e9ad694b36421548fddd91d87e2ee8d4b585bd"
   }
  }
 },
 "nbformat": 4,
 "nbformat_minor": 2
}
